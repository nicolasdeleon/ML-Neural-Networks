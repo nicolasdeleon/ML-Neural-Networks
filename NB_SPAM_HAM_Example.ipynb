{
  "nbformat": 4,
  "nbformat_minor": 0,
  "metadata": {
    "colab": {
      "name": "RedesParcialito1.ipynb",
      "provenance": [],
      "collapsed_sections": []
    },
    "kernelspec": {
      "name": "python3",
      "display_name": "Python 3"
    }
  },
  "cells": [
    {
      "cell_type": "markdown",
      "metadata": {
        "id": "nQY-tnit7juJ",
        "colab_type": "text"
      },
      "source": [
        "## Ejercicio 7"
      ]
    },
    {
      "cell_type": "markdown",
      "metadata": {
        "id": "Zc-3QbLx7oJW",
        "colab_type": "text"
      },
      "source": [
        "Imports"
      ]
    },
    {
      "cell_type": "code",
      "metadata": {
        "id": "hnG5dZUH7qRP",
        "colab_type": "code",
        "colab": {}
      },
      "source": [
        "import pandas as pd\n",
        "import numpy as np"
      ],
      "execution_count": 0,
      "outputs": []
    },
    {
      "cell_type": "markdown",
      "metadata": {
        "id": "Vq36zboR7sOf",
        "colab_type": "text"
      },
      "source": [
        "Mails y previsualizacion de data"
      ]
    },
    {
      "cell_type": "code",
      "metadata": {
        "id": "s9mPsF3l7vxg",
        "colab_type": "code",
        "colab": {
          "base_uri": "https://localhost:8080/",
          "height": 136
        },
        "outputId": "f3634fd9-6631-4858-efb0-dfeae9e8b547"
      },
      "source": [
        "mails = [ \n",
        "        {\"alargue\": 3, \"automovil\": 3, \"casa\": 1, \"novedoso\": 6, \"categoría\": \"SPAM\"},\n",
        "        {\"alargue\": 1, \"automovil\": 4, \"casa\": 7, \"novedoso\": 1, \"categoría\": \"HAM\"},\n",
        "        {\"alargue\": 1, \"automovil\": 4, \"casa\": 3, \"novedoso\": 1, \"categoría\": \"HAM\"},\n",
        "        {\"alargue\": 4, \"automovil\": 2, \"casa\": 1, \"novedoso\": 5, \"categoría\": \"SPAM\"},\n",
        "        {\"alargue\": 1, \"automovil\": 3, \"casa\": 4, \"novedoso\": 2, \"categoría\": \"HAM\"},\n",
        "        {\"alargue\": 2, \"automovil\": 4, \"casa\": 5, \"novedoso\": 1, \"categoría\": \"HAM\"}\n",
        "    ]\n",
        "\n",
        "data = pd.DataFrame(mails)\n",
        "print(data)"
      ],
      "execution_count": 35,
      "outputs": [
        {
          "output_type": "stream",
          "text": [
            "   alargue  automovil  casa  novedoso categoría\n",
            "0        3          3     1         6      SPAM\n",
            "1        1          4     7         1       HAM\n",
            "2        1          4     3         1       HAM\n",
            "3        4          2     1         5      SPAM\n",
            "4        1          3     4         2       HAM\n",
            "5        2          4     5         1       HAM\n"
          ],
          "name": "stdout"
        }
      ]
    },
    {
      "cell_type": "markdown",
      "metadata": {
        "id": "RDhkQfLW71lv",
        "colab_type": "text"
      },
      "source": [
        "Probabilidades a priori de cada clase"
      ]
    },
    {
      "cell_type": "code",
      "metadata": {
        "id": "6RWHVLPv75Nv",
        "colab_type": "code",
        "colab": {
          "base_uri": "https://localhost:8080/",
          "height": 34
        },
        "outputId": "04009b76-156c-49b6-d086-720b5ea2002e"
      },
      "source": [
        "ham_count = data.groupby('categoría').count().values[0][0]\n",
        "spam_count = data.groupby('categoría').count().values[1][0]\n",
        "priori_ham = ham_count/(ham_count+spam_count)\n",
        "priori_spam = spam_count/(ham_count+spam_count)\n",
        "print(f'Probabilidad de recibir un mail SPAM es {round(priori_spam*100)}%, mientras que HAM es {round(priori_ham*100)}%')"
      ],
      "execution_count": 36,
      "outputs": [
        {
          "output_type": "stream",
          "text": [
            "Probabilidad de recibir un mail SPAM es 33.0%, mientras que HAM es 67.0%\n"
          ],
          "name": "stdout"
        }
      ]
    },
    {
      "cell_type": "markdown",
      "metadata": {
        "id": "K4XKijQy79Qq",
        "colab_type": "text"
      },
      "source": [
        "Probabilidad de cada palabra dado que es SPAM o HAM"
      ]
    },
    {
      "cell_type": "code",
      "metadata": {
        "id": "xOaDndg38CdY",
        "colab_type": "code",
        "colab": {
          "base_uri": "https://localhost:8080/",
          "height": 54
        },
        "outputId": "3bd05b6b-5f67-427b-eeb9-c4930801b4c7"
      },
      "source": [
        "total_spam_words = 0\n",
        "spam_sum = data.loc[data['categoría'] == \"SPAM\"].sum().drop(index='categoría')\n",
        "for word_count in spam_sum:\n",
        "  total_spam_words += int(word_count)\n",
        "\n",
        "total_ham_words = 0\n",
        "ham_sum = data.loc[data['categoría'] == \"HAM\"].sum().drop(index='categoría')\n",
        "for word_count in ham_sum:\n",
        "  total_ham_words += int(word_count)\n",
        "\n",
        "word_prob['SPAM'] = {}\n",
        "word_prob['HAM'] = {}\n",
        "for word in data.drop(columns='categoría'):\n",
        "  word_prob['SPAM'][word] = spam_sum[word]/total_spam_words\n",
        "  word_prob['HAM'][word] = ham_sum[word]/total_ham_words\n",
        "\n",
        "print(word_prob)"
      ],
      "execution_count": 37,
      "outputs": [
        {
          "output_type": "stream",
          "text": [
            "{'SPAM': {'alargue': 0.28, 'automovil': 0.2, 'casa': 0.08, 'novedoso': 0.44}, 'HAM': {'alargue': 0.11363636363636363, 'automovil': 0.3409090909090909, 'casa': 0.4318181818181818, 'novedoso': 0.11363636363636363}}\n"
          ],
          "name": "stdout"
        }
      ]
    },
    {
      "cell_type": "markdown",
      "metadata": {
        "id": "C6HSpnSM8JbK",
        "colab_type": "text"
      },
      "source": [
        "Test sobre un mail con ciertas palabras"
      ]
    },
    {
      "cell_type": "code",
      "metadata": {
        "id": "MyGlHhD18L-z",
        "colab_type": "code",
        "colab": {
          "base_uri": "https://localhost:8080/",
          "height": 68
        },
        "outputId": "e1d0d29c-20ac-41d0-f0d1-1a86241432ae"
      },
      "source": [
        "test_mail = [ \n",
        "        {\"alargue\": 4, \"automovil\": 1, \"casa\": 1, \"novedoso\": 5, \"categoría\": \"NA\"},\n",
        "    ]\n",
        "\n",
        "L1 = pow(word_prob['SPAM']['alargue'],4)*word_prob['SPAM']['automovil']*word_prob['SPAM']['casa']*pow(word_prob['SPAM']['novedoso'],5)*priori_spam\n",
        "print(f'L1 = {L1}')\n",
        "L2 = pow(word_prob['HAM']['alargue'],4)*word_prob['HAM']['automovil']*word_prob['HAM']['casa']*pow(word_prob['HAM']['novedoso'],5)*priori_ham\n",
        "print(f'L2 = {L2}')\n",
        "\n",
        "if L1>L2:\n",
        "  print(\"Es un mail SPAM\")\n",
        "\n",
        "else:\n",
        "  print(\"Es un mail HAM\") \n",
        "  print(L2) "
      ],
      "execution_count": 39,
      "outputs": [
        {
          "output_type": "stream",
          "text": [
            "L1 = 5.406226484210349e-07\n",
            "L2 = 3.1010173680942757e-10\n",
            "Es un mail SPAM\n"
          ],
          "name": "stdout"
        }
      ]
    }
  ]
}
